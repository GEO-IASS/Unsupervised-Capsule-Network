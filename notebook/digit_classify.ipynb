{
 "metadata": {
  "name": "",
  "signature": "sha256:d61592e0c2834cb64d00fcba5535a1d9f66855715d71ec0d4d75a80571756f14"
 },
 "nbformat": 3,
 "nbformat_minor": 0,
 "worksheets": [
  {
   "cells": [
    {
     "cell_type": "code",
     "collapsed": false,
     "input": [
      "%matplotlib inline\n",
      "import scipy.io\n",
      "import numpy as np\n",
      "from matplotlib import pyplot as plt\n",
      "import matplotlib.cm as cm\n",
      "\n",
      "\n",
      "src = \"../tmp/\"\n",
      "affines = 0\n",
      "images = 0\n",
      "targets = 0\n",
      "entities = 10\n",
      "for i in range(1,100):\n",
      "    aff = 0\n",
      "    for en in range(1,entities+1):\n",
      "        if en == 1:\n",
      "            aff = scipy.io.loadmat(src + \"testbatch_aff_\" + str(en) + \"_\" + str(i))['aff']\n",
      "        else:\n",
      "            tmp = scipy.io.loadmat(src + \"testbatch_aff_\" + str(en) + \"_\" + str(i))['aff']\n",
      "            aff = np.hstack((aff, tmp))\n",
      "    \n",
      "    tgt = np.array(scipy.io.loadmat(src + \"testbatch_labels_\" + str(i))['labels'], dtype='int')\n",
      "   \n",
      "    imgs = scipy.io.loadmat(src + \"testbatch_imgs_\" + str(i))['imgs']\n",
      "    if i == 1:\n",
      "        affines = aff\n",
      "        images = imgs\n",
      "        targets = tgt\n",
      "    else:\n",
      "        affines = np.vstack((affines, aff)) \n",
      "        images = np.vstack((images, imgs))\n",
      "        targets = np.vstack((targets, tgt))\n",
      "\n",
      "#load train data\n",
      "src = \"../tmp/\"\n",
      "train_affines = 0\n",
      "train_targets = 0\n",
      "for i in range(1,600):\n",
      "    aff = 0\n",
      "    for en in range(1,entities+1):\n",
      "        if en == 1:\n",
      "            aff = scipy.io.loadmat(src + \"trainbatch_aff_\" + str(en) + \"_\" + str(i))['aff']\n",
      "        else:\n",
      "            tmp = scipy.io.loadmat(src + \"trainbatch_aff_\" + str(en) + \"_\" + str(i))['aff']\n",
      "            aff = np.hstack((aff, tmp))\n",
      "    tgt = np.array(scipy.io.loadmat(src + \"trainbatch_labels_\" + str(i))['labels'],dtype='int')\n",
      "    if i == 1:\n",
      "        train_affines = aff\n",
      "        train_targets = tgt\n",
      "    else:\n",
      "        train_affines = np.vstack((train_affines, aff)) \n",
      "        train_targets = np.vstack((train_targets, tgt))\n",
      "# print(np.unique(targets))\n",
      "# print(np.shape(affines))\n",
      "# plt.imshow(images[0][0],  cmap = cm.Greys_r)\n",
      "# plt.show()\n",
      "print('DONE')"
     ],
     "language": "python",
     "metadata": {},
     "outputs": [
      {
       "output_type": "stream",
       "stream": "stdout",
       "text": [
        "DONE\n"
       ]
      }
     ],
     "prompt_number": 375
    },
    {
     "cell_type": "code",
     "collapsed": false,
     "input": [
      "test_affines = affines\n",
      "test_targets = targets\n",
      "N = 1 #number of items per class\n",
      "indices = np.random.permutation(len(train_targets))\n",
      "final_train_data = 0\n",
      "final_train_targets = 0\n",
      "flag=0\n",
      "for c in range(1,11):\n",
      "    cnt=0\n",
      "    for ii in range(len(train_targets)):\n",
      "        i = indices[ii]\n",
      "        if cnt >= N:\n",
      "            break\n",
      "        else:\n",
      "            if c == train_targets[i]:\n",
      "                if flag == 0 :\n",
      "                    flag = 1\n",
      "                    final_train_data= train_affines[i] \n",
      "                    final_train_targets = train_targets[i]\n",
      "                else:    \n",
      "                    final_train_data = np.vstack((final_train_data, train_affines[i]))\n",
      "                    final_train_targets = np.vstack((final_train_targets, train_targets[i]))\n",
      "                cnt=cnt+1\n",
      "print('DONE')\n",
      "print(np.shape(final_train_data))\n",
      "print(np.shape(final_train_targets))"
     ],
     "language": "python",
     "metadata": {},
     "outputs": [
      {
       "output_type": "stream",
       "stream": "stdout",
       "text": [
        "DONE\n",
        "(10, 70)\n",
        "(10, 1)\n"
       ]
      }
     ],
     "prompt_number": 393
    },
    {
     "cell_type": "code",
     "collapsed": false,
     "input": [
      "from sklearn.ensemble import RandomForestClassifier\n",
      "clf = RandomForestClassifier(n_estimators=1000, n_jobs=-1)"
     ],
     "language": "python",
     "metadata": {},
     "outputs": [],
     "prompt_number": 382
    },
    {
     "cell_type": "code",
     "collapsed": false,
     "input": [
      "from sklearn.svm import NuSVC, LinearSVC\n",
      "clf = LinearSVC()"
     ],
     "language": "python",
     "metadata": {},
     "outputs": [],
     "prompt_number": 391
    },
    {
     "cell_type": "code",
     "collapsed": false,
     "input": [
      "clf.fit(final_train_data, np.ravel(final_train_targets))\n",
      "preds = clf.predict(affines)\n",
      "targets = np.ravel(targets)\n",
      "correct = np.where((targets - preds) == 0)\n",
      "print('accuracy:', (1.0*len(correct[0]))/len(targets) * 100.0 )"
     ],
     "language": "python",
     "metadata": {},
     "outputs": [
      {
       "output_type": "stream",
       "stream": "stdout",
       "text": [
        "('accuracy:', 64.64646464646465)\n"
       ]
      }
     ],
     "prompt_number": 394
    },
    {
     "cell_type": "code",
     "collapsed": false,
     "input": [
      "#(distance based - fails)\n",
      "import scipy.spatial\n",
      "import numpy as np\n",
      "correct = 0\n",
      "for i in range(len(targets)):\n",
      "    maxc = 1000000\n",
      "    chosen_cid = -1\n",
      "    for c in range(len(final_train_targets)):\n",
      "        if scipy.spatial.distance.euclidean(affines[i], final_train_data[c]) <= maxc:\n",
      "            maxc = c; chosen_cid = final_train_targets[c]\n",
      "    if chosen_cid == targets[i]:\n",
      "        correct = correct + 1\n",
      "print('accuracy:', (1.0*correct)/len(targets) * 100.0 )"
     ],
     "language": "python",
     "metadata": {},
     "outputs": [
      {
       "output_type": "stream",
       "stream": "stdout",
       "text": [
        "('accuracy:', 9.787878787878789)\n"
       ]
      }
     ],
     "prompt_number": 412
    },
    {
     "cell_type": "code",
     "collapsed": false,
     "input": [
      "#classify using KNN\n",
      "from sklearn.cluster import KMeans\n",
      "import matplotlib.gridspec as gridspec\n",
      "\n",
      "estimator = KMeans(n_clusters=10, n_init=10, init='random', n_jobs=-1)\n",
      "estimator.fit(affines)\n",
      "labels = estimator.labels_\n",
      "#visualize results\n",
      "display_cid = 8\n",
      "cnt = 0\n",
      "rows = 5\n",
      "cols = 5\n",
      "gs = gridspec.GridSpec(rows, cols, wspace=0.0)\n",
      "ax = [plt.subplot(gs[i]) for i in range(rows*cols)]\n",
      "for i in range(len(labels)):\n",
      "    if labels[i] == display_cid and cnt < rows*cols:\n",
      "        ax[cnt].imshow(images[i][0], cmap=cm.Greys_r)\n",
      "        ax[cnt].axis('off')\n",
      "        cnt = cnt + 1"
     ],
     "language": "python",
     "metadata": {},
     "outputs": [
      {
       "metadata": {},
       "output_type": "display_data",
       "png": "[encoded data removed]",
       "text": [
        "<matplotlib.figure.Figure at 0x7f865968fd90>"
       ]
      }
     ],
     "prompt_number": 186
    }
   ],
   "metadata": {}
  }
 ]
}